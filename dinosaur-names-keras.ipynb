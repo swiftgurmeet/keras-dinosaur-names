{
 "cells": [
  {
   "cell_type": "code",
   "execution_count": 9,
   "metadata": {},
   "outputs": [
    {
     "name": "stderr",
     "output_type": "stream",
     "text": [
      "Using TensorFlow backend.\n"
     ]
    }
   ],
   "source": [
    "import numpy as np\n",
    "import pandas as pd \n",
    "import random\n",
    "import re\n",
    "from sklearn.feature_extraction.text import CountVectorizer\n",
    "from keras.preprocessing.text import Tokenizer\n",
    "from keras.preprocessing.sequence import pad_sequences\n",
    "from keras.models import Sequential\n",
    "from keras.layers import Dense, Embedding, LSTM\n",
    "from sklearn.model_selection import train_test_split\n",
    "from keras.utils.np_utils import to_categorical\n",
    "from tensorflow.keras.optimizers import Adam,RMSprop\n",
    "from functools import reduce"
   ]
  },
  {
   "cell_type": "code",
   "execution_count": 10,
   "metadata": {},
   "outputs": [],
   "source": [
    "import requests\n",
    "\n",
    "url = 'https://raw.githubusercontent.com/swiftgurmeet/keras-dinosaur-names/master/dinos.txt'\n",
    "response = requests.get(url)\n",
    "data = response.text"
   ]
  },
  {
   "cell_type": "code",
   "execution_count": 11,
   "metadata": {},
   "outputs": [
    {
     "name": "stdout",
     "output_type": "stream",
     "text": [
      "There are 20969 total characters and 27 unique characters in your data.\n"
     ]
    }
   ],
   "source": [
    "#data = open('dinos.txt', 'r').read()\n",
    "chars = list(set(data.lower()))\n",
    "ctoi = { ch:i for i,ch in enumerate(sorted(chars)) }\n",
    "itoc = { i:ch for i,ch in enumerate(sorted(chars)) }\n",
    "data_size, vocab_size = len(data), len(chars)\n",
    "print('There are %d total characters and %d unique characters in your data.' % (data_size, vocab_size))"
   ]
  },
  {
   "cell_type": "code",
   "execution_count": 12,
   "metadata": {},
   "outputs": [],
   "source": [
    "examples = data.splitlines()\n",
    "\n",
    "examples = [x.lower().strip() for x in examples]\n",
    "np.random.seed(0)\n",
    "np.random.shuffle(examples)\n",
    "\n",
    "# maxlen is the length of longest word in examples\n",
    "maxlen = reduce((lambda x, y: max(x,y)), map(lambda x: len(x), examples))\n",
    "\n",
    "x = np.zeros((len(examples), maxlen, len(chars)), dtype=np.int)\n",
    "y = np.zeros((len(examples), maxlen, len(chars)), dtype=np.int)\n",
    "for j in range(len(examples)):\n",
    "    x[j][0][ctoi[\"\\n\"]] = 1\n",
    "    for k in range(1,maxlen):\n",
    "        if k <= len(examples[j]):\n",
    "            x[j][k][ctoi[examples[j][k-1]]] = 1\n",
    "        else:\n",
    "            x[j][k][ctoi[\"\\n\"]] = 1\n",
    "       \n",
    "    for k in range(0,maxlen-2):\n",
    "        y[j][k] = x[j][k+1]\n",
    "        \n",
    "    y[j][maxlen-1][ctoi[\"\\n\"]] = 1\n",
    "    \n",
    "def sample(preds, temperature=1.0):\n",
    "    # helper function to sample an index from a probability array\n",
    "    preds = np.asarray(preds).astype('float64')\n",
    "    preds = np.log(preds) / temperature\n",
    "    exp_preds = np.exp(preds)\n",
    "    preds = exp_preds / np.sum(exp_preds)\n",
    "    probas = np.random.multinomial(1, preds, 1)\n",
    "    return np.argmax(probas)"
   ]
  },
  {
   "cell_type": "code",
   "execution_count": 13,
   "metadata": {},
   "outputs": [
    {
     "name": "stdout",
     "output_type": "stream",
     "text": [
      "_________________________________________________________________\n",
      "Layer (type)                 Output Shape              Param #   \n",
      "=================================================================\n",
      "lstm_1 (LSTM)                (None, 25, 200)           182400    \n",
      "_________________________________________________________________\n",
      "dense_1 (Dense)              (None, 25, 27)            5427      \n",
      "=================================================================\n",
      "Total params: 187,827\n",
      "Trainable params: 187,827\n",
      "Non-trainable params: 0\n",
      "_________________________________________________________________\n",
      "None\n"
     ]
    }
   ],
   "source": [
    "lstm_out = 200\n",
    "batch_size = 32\n",
    "\n",
    "optimizer = Adam(lr=0.01,clipvalue=0.5)\n",
    "model = Sequential()\n",
    "model.add(LSTM(lstm_out,  input_shape = (maxlen,vocab_size),recurrent_dropout = 0.2, return_sequences=True))\n",
    "model.add(Dense(vocab_size,activation='softmax'))\n",
    "model.compile(loss = 'categorical_crossentropy', optimizer=optimizer ,metrics = ['accuracy'])\n",
    "print(model.summary())"
   ]
  },
  {
   "cell_type": "code",
   "execution_count": 14,
   "metadata": {
    "scrolled": true
   },
   "outputs": [
    {
     "name": "stdout",
     "output_type": "stream",
     "text": [
      "Epoch 1/50\n",
      "1623/1623 [==============================] - 2s 1ms/step - loss: 1.5984 - acc: 0.5578\n",
      "Epoch 2/50\n",
      "1623/1623 [==============================] - 1s 600us/step - loss: 1.1076 - acc: 0.6804\n",
      "Epoch 3/50\n",
      "1623/1623 [==============================] - 1s 612us/step - loss: 0.9534 - acc: 0.7173\n",
      "Epoch 4/50\n",
      "1623/1623 [==============================] - 1s 608us/step - loss: 0.8950 - acc: 0.7323\n",
      "Epoch 5/50\n",
      "1623/1623 [==============================] - 1s 607us/step - loss: 0.8533 - acc: 0.7453\n",
      "Epoch 6/50\n",
      "1623/1623 [==============================] - 1s 607us/step - loss: 0.8242 - acc: 0.7525\n",
      "Epoch 7/50\n",
      "1623/1623 [==============================] - 1s 602us/step - loss: 0.7949 - acc: 0.7606\n",
      "Epoch 8/50\n",
      "1623/1623 [==============================] - 1s 602us/step - loss: 0.7769 - acc: 0.7638\n",
      "Epoch 9/50\n",
      "1623/1623 [==============================] - 1s 606us/step - loss: 0.7553 - acc: 0.7695\n",
      "Epoch 10/50\n",
      "1623/1623 [==============================] - 1s 605us/step - loss: 0.7312 - acc: 0.7749\n",
      "Epoch 11/50\n",
      "1623/1623 [==============================] - 1s 602us/step - loss: 0.7121 - acc: 0.7814\n",
      "Epoch 12/50\n",
      "1623/1623 [==============================] - 1s 612us/step - loss: 0.6897 - acc: 0.7869\n",
      "Epoch 13/50\n",
      "1623/1623 [==============================] - 1s 609us/step - loss: 0.6713 - acc: 0.7909\n",
      "Epoch 14/50\n",
      "1623/1623 [==============================] - 1s 610us/step - loss: 0.6567 - acc: 0.7956\n",
      "Epoch 15/50\n",
      "1623/1623 [==============================] - 1s 611us/step - loss: 0.6384 - acc: 0.7993\n",
      "Epoch 16/50\n",
      "1623/1623 [==============================] - 1s 605us/step - loss: 0.6187 - acc: 0.8052\n",
      "Epoch 17/50\n",
      "1623/1623 [==============================] - 1s 602us/step - loss: 0.6032 - acc: 0.8103\n",
      "Epoch 18/50\n",
      "1623/1623 [==============================] - 1s 605us/step - loss: 0.5881 - acc: 0.8125\n",
      "Epoch 19/50\n",
      "1623/1623 [==============================] - 1s 605us/step - loss: 0.5756 - acc: 0.8171\n",
      "Epoch 20/50\n",
      "1623/1623 [==============================] - 1s 602us/step - loss: 0.5610 - acc: 0.8224\n",
      "Epoch 21/50\n",
      "1623/1623 [==============================] - 1s 605us/step - loss: 0.5513 - acc: 0.8236\n",
      "Epoch 22/50\n",
      "1623/1623 [==============================] - 1s 603us/step - loss: 0.5384 - acc: 0.8264\n",
      "Epoch 23/50\n",
      "1623/1623 [==============================] - 1s 605us/step - loss: 0.5309 - acc: 0.8287\n",
      "Epoch 24/50\n",
      "1623/1623 [==============================] - 1s 602us/step - loss: 0.5184 - acc: 0.8315\n",
      "Epoch 25/50\n",
      "1623/1623 [==============================] - 1s 604us/step - loss: 0.5146 - acc: 0.8329\n",
      "Epoch 26/50\n",
      "1623/1623 [==============================] - 1s 603us/step - loss: 0.5070 - acc: 0.8356\n",
      "Epoch 27/50\n",
      "1623/1623 [==============================] - 1s 606us/step - loss: 0.4968 - acc: 0.8391\n",
      "Epoch 28/50\n",
      "1623/1623 [==============================] - 1s 609us/step - loss: 0.4878 - acc: 0.8417\n",
      "Epoch 29/50\n",
      "1623/1623 [==============================] - 1s 606us/step - loss: 0.4837 - acc: 0.8427\n",
      "Epoch 30/50\n",
      "1623/1623 [==============================] - 1s 605us/step - loss: 0.4767 - acc: 0.8443\n",
      "Epoch 31/50\n",
      "1623/1623 [==============================] - 1s 605us/step - loss: 0.4723 - acc: 0.8441\n",
      "Epoch 32/50\n",
      "1623/1623 [==============================] - 1s 602us/step - loss: 0.4686 - acc: 0.8477\n",
      "Epoch 33/50\n",
      "1623/1623 [==============================] - 1s 617us/step - loss: 0.4640 - acc: 0.8488\n",
      "Epoch 34/50\n",
      "1623/1623 [==============================] - 1s 614us/step - loss: 0.4572 - acc: 0.8517\n",
      "Epoch 35/50\n",
      "1623/1623 [==============================] - 1s 606us/step - loss: 0.4563 - acc: 0.8505\n",
      "Epoch 36/50\n",
      "1623/1623 [==============================] - 1s 612us/step - loss: 0.4518 - acc: 0.8518\n",
      "Epoch 37/50\n",
      "1623/1623 [==============================] - 1s 616us/step - loss: 0.4515 - acc: 0.8500\n",
      "Epoch 38/50\n",
      "1623/1623 [==============================] - 1s 611us/step - loss: 0.4439 - acc: 0.8538\n",
      "Epoch 39/50\n",
      "1623/1623 [==============================] - 1s 609us/step - loss: 0.4407 - acc: 0.8557\n",
      "Epoch 40/50\n",
      "1623/1623 [==============================] - 1s 604us/step - loss: 0.4843 - acc: 0.8419\n",
      "Epoch 41/50\n",
      "1623/1623 [==============================] - 1s 604us/step - loss: 0.4652 - acc: 0.8481\n",
      "Epoch 42/50\n",
      "1623/1623 [==============================] - 1s 611us/step - loss: 0.4471 - acc: 0.8534\n",
      "Epoch 43/50\n",
      "1623/1623 [==============================] - 1s 609us/step - loss: 0.4417 - acc: 0.8535\n",
      "Epoch 44/50\n",
      "1623/1623 [==============================] - 1s 617us/step - loss: 0.4384 - acc: 0.8562\n",
      "Epoch 45/50\n",
      "1623/1623 [==============================] - 1s 613us/step - loss: 0.4357 - acc: 0.8556\n",
      "Epoch 46/50\n",
      "1623/1623 [==============================] - 1s 607us/step - loss: 0.4300 - acc: 0.8581\n",
      "Epoch 47/50\n",
      "1623/1623 [==============================] - 1s 608us/step - loss: 0.4250 - acc: 0.8588\n",
      "Epoch 48/50\n",
      "1623/1623 [==============================] - 1s 614us/step - loss: 0.4209 - acc: 0.8609\n",
      "Epoch 49/50\n",
      "1623/1623 [==============================] - 1s 607us/step - loss: 0.4225 - acc: 0.8614\n",
      "Epoch 50/50\n",
      "1623/1623 [==============================] - 1s 614us/step - loss: 0.4163 - acc: 0.8611\n"
     ]
    }
   ],
   "source": [
    "results = model.fit(x, y, epochs=50, verbose=1)"
   ]
  },
  {
   "cell_type": "code",
   "execution_count": 26,
   "metadata": {},
   "outputs": [
    {
     "name": "stdout",
     "output_type": "stream",
     "text": [
      "bearosaurus\n",
      "\n"
     ]
    }
   ],
   "source": [
    "test = np.zeros((maxlen,vocab_size))\n",
    "\n",
    "for i in range(0,maxlen):\n",
    "    start_letter = np.random.randint(1, vocab_size)\n",
    "    test[i][start_letter] = 1\n",
    "    if i == 0:\n",
    "        first = itoc[start_letter]\n",
    "        print(first,end='')\n",
    "\n",
    "\n",
    "test = np.reshape(test, (1, maxlen, len(chars)))\n",
    "\n",
    "out = \"\"\n",
    "prediction = model.predict(test, verbose=0)\n",
    "index = sample(prediction[0][0],0.1)\n",
    "out= out + itoc[index]\n",
    "for i in range(1,maxlen-1):\n",
    "    prediction = model.predict(test, verbose=0)\n",
    "    index = sample(prediction[0][i],0.5)\n",
    "    out= out + itoc[index]\n",
    "    test[0][i+1] = prediction[0][i]\n",
    "    if itoc[index] == \"\\n\":\n",
    "        print(out)\n",
    "        break"
   ]
  }
 ],
 "metadata": {
  "coursera": {
   "course_slug": "nlp-sequence-models",
   "graded_item_id": "1dYg0",
   "launcher_item_id": "MLhxP"
  },
  "kernelspec": {
   "display_name": "Python 3",
   "language": "python",
   "name": "python3"
  },
  "language_info": {
   "codemirror_mode": {
    "name": "ipython",
    "version": 3
   },
   "file_extension": ".py",
   "mimetype": "text/x-python",
   "name": "python",
   "nbconvert_exporter": "python",
   "pygments_lexer": "ipython3",
   "version": "3.7.3"
  }
 },
 "nbformat": 4,
 "nbformat_minor": 2
}
